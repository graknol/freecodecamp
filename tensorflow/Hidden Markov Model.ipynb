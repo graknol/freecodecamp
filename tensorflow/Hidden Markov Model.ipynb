{
    "cells": [
        {
            "cell_type": "code",
            "execution_count": 1,
            "source": [
                "from __future__ import absolute_import, division, print_function, unicode_literals\r\n",
                "\r\n",
                "from path import Path\r\n",
                "import pandas as pd\r\n",
                "from IPython.display import clear_output\r\n",
                "import tensorflow_probability as tfp \r\n",
                "import tensorflow as tf\r\n",
                "\r\n",
                "tfd = tfp.distributions"
            ],
            "outputs": [],
            "metadata": {}
        },
        {
            "cell_type": "code",
            "execution_count": 6,
            "source": [
                "initial_distribution = tfd.Categorical(probs=[0.8, 0.2])\r\n",
                "transition_distribution = tfd.Categorical(probs=[[0.7, 0.3],\r\n",
                "                                                 [0.2, 0.8]])\r\n",
                "observation_distribution = tfd.Normal(loc=[0., 15.], scale=[5., 10.])\r\n",
                "model = tfd.HiddenMarkovModel(\r\n",
                "    initial_distribution=initial_distribution,\r\n",
                "    transition_distribution=transition_distribution,\r\n",
                "    observation_distribution=observation_distribution,\r\n",
                "    num_steps=7\r\n",
                ")"
            ],
            "outputs": [],
            "metadata": {}
        },
        {
            "cell_type": "code",
            "execution_count": 7,
            "source": [
                "mean = model.mean()\r\n",
                "\r\n",
                "with tf.compat.v1.Session() as sess:\r\n",
                "    print(mean.numpy())"
            ],
            "outputs": [
                {
                    "output_type": "stream",
                    "name": "stdout",
                    "text": [
                        "[2.9999998 5.9999995 7.4999995 8.25      8.625     8.812501  8.90625\n",
                        " 8.953126  8.9765625 8.988281  8.994141  8.99707   8.998536  8.999269\n",
                        " 8.999633  8.999816  8.9999075 8.999953  8.999976  8.999987  8.999991\n",
                        " 8.999995  8.999996  8.999998  8.999998  8.999998  8.999998  8.999998\n",
                        " 8.999998  8.999998 ]\n"
                    ]
                }
            ],
            "metadata": {}
        }
    ],
    "metadata": {
        "orig_nbformat": 4,
        "language_info": {
            "name": "python",
            "version": "3.8.10",
            "mimetype": "text/x-python",
            "codemirror_mode": {
                "name": "ipython",
                "version": 3
            },
            "pygments_lexer": "ipython3",
            "nbconvert_exporter": "python",
            "file_extension": ".py"
        },
        "kernelspec": {
            "name": "python3",
            "display_name": "Python 3.8.10 64-bit ('fcc_tf': conda)"
        },
        "interpreter": {
            "hash": "8a577243463c9fb053d577f44012f92c98057b00b50ce53cdc784040c960c971"
        }
    },
    "nbformat": 4,
    "nbformat_minor": 2
}