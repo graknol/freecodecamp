{
    "cells": [
        {
            "cell_type": "code",
            "execution_count": 1,
            "source": [
                "import tensorflow as tf\r\n",
                "from tensorflow import keras\r\n",
                "\r\n",
                "import numpy as np\r\n",
                "import matplotlib.pyplot as plt"
            ],
            "outputs": [],
            "metadata": {}
        },
        {
            "cell_type": "code",
            "execution_count": 2,
            "source": [
                "fashion_mnist = keras.datasets.fashion_mnist\r\n",
                "\r\n",
                "(train_images, train_labels), (test_images,\r\n",
                "                               test_labels) = fashion_mnist.load_data()\r\n"
            ],
            "outputs": [
                {
                    "output_type": "stream",
                    "name": "stdout",
                    "text": [
                        "Downloading data from https://storage.googleapis.com/tensorflow/tf-keras-datasets/train-labels-idx1-ubyte.gz\n",
                        "32768/29515 [=================================] - 0s 1us/step\n",
                        "Downloading data from https://storage.googleapis.com/tensorflow/tf-keras-datasets/train-images-idx3-ubyte.gz\n",
                        "26427392/26421880 [==============================] - 1s 0us/step\n",
                        "Downloading data from https://storage.googleapis.com/tensorflow/tf-keras-datasets/t10k-labels-idx1-ubyte.gz\n",
                        "8192/5148 [===============================================] - 0s 0us/step\n",
                        "Downloading data from https://storage.googleapis.com/tensorflow/tf-keras-datasets/t10k-images-idx3-ubyte.gz\n",
                        "4423680/4422102 [==============================] - 0s 0us/step\n"
                    ]
                }
            ],
            "metadata": {}
        },
        {
            "cell_type": "code",
            "execution_count": 5,
            "source": [
                "train_images.shape"
            ],
            "outputs": [
                {
                    "output_type": "execute_result",
                    "data": {
                        "text/plain": [
                            "(60000, 28, 28)"
                        ]
                    },
                    "metadata": {},
                    "execution_count": 5
                }
            ],
            "metadata": {}
        },
        {
            "cell_type": "code",
            "execution_count": 8,
            "source": [
                "train_images[0, 23, 23]"
            ],
            "outputs": [
                {
                    "output_type": "execute_result",
                    "data": {
                        "text/plain": [
                            "194"
                        ]
                    },
                    "metadata": {},
                    "execution_count": 8
                }
            ],
            "metadata": {}
        },
        {
            "cell_type": "code",
            "execution_count": 9,
            "source": [
                "train_labels[:10]"
            ],
            "outputs": [
                {
                    "output_type": "execute_result",
                    "data": {
                        "text/plain": [
                            "array([9, 0, 0, 3, 0, 2, 7, 2, 5, 5], dtype=uint8)"
                        ]
                    },
                    "metadata": {},
                    "execution_count": 9
                }
            ],
            "metadata": {}
        },
        {
            "cell_type": "code",
            "execution_count": 10,
            "source": [
                "class_names = ['T-shirt/top', 'Trouser', 'Pullover', 'Dress',\r\n",
                "               'Coat', 'Sandal', 'Shirt', 'Sneaker', 'Bag', 'Ankle boot']\r\n"
            ],
            "outputs": [],
            "metadata": {}
        },
        {
            "cell_type": "code",
            "execution_count": 33,
            "source": [
                "plt.figure()\r\n",
                "plt.imshow(train_images[4])\r\n",
                "plt.colorbar()\r\n",
                "plt.grid(False)\r\n",
                "plt.show()"
            ],
            "outputs": [
                {
                    "output_type": "display_data",
                    "data": {
                        "text/plain": [
                            "<Figure size 432x288 with 2 Axes>"
                        ],
                        "image/png": "[encoded data removed]"
                    },
                    "metadata": {
                        "needs_background": "light"
                    }
                }
            ],
            "metadata": {}
        },
        {
            "cell_type": "markdown",
            "source": [
                "# Preprocessing\r\n",
                "We need to preprocess our data to make it easier for the Neural Network to update the biases and weights."
            ],
            "metadata": {}
        },
        {
            "cell_type": "code",
            "execution_count": 18,
            "source": [
                "train_images = train_images / 255.0\r\n",
                "test_images = test_images / 255.0"
            ],
            "outputs": [],
            "metadata": {}
        },
        {
            "cell_type": "markdown",
            "source": [
                "# Creating the model\r\n",
                "This is where we define the architecture of our Neural Network."
            ],
            "metadata": {}
        },
        {
            "cell_type": "code",
            "execution_count": 20,
            "source": [
                "model = keras.Sequential([\r\n",
                "    keras.layers.Flatten(input_shape=(28, 28)),  # input layer (1)\r\n",
                "    keras.layers.Dense(128, activation='relu'),  # hidden layer (2)\r\n",
                "    keras.layers.Dense(10, activation='softmax')  # output layer (3)\r\n",
                "])\r\n",
                "\r\n",
                "model.compile(optimizer='adam',\r\n",
                "              loss='sparse_categorical_crossentropy',\r\n",
                "              metrics=['accuracy'])\r\n"
            ],
            "outputs": [],
            "metadata": {}
        },
        {
            "cell_type": "markdown",
            "source": [
                "# Training the model\r\n",
                "We *fit* the model to the training data in order to train it."
            ],
            "metadata": {}
        },
        {
            "cell_type": "code",
            "execution_count": 25,
            "source": [
                "model.fit(train_images, train_labels, epochs=1)"
            ],
            "outputs": [
                {
                    "output_type": "stream",
                    "name": "stdout",
                    "text": [
                        "1875/1875 [==============================] - 7s 3ms/step - loss: 0.2154 - accuracy: 0.9192\n"
                    ]
                },
                {
                    "output_type": "execute_result",
                    "data": {
                        "text/plain": [
                            "<tensorflow.python.keras.callbacks.History at 0x1e1e1f90f10>"
                        ]
                    },
                    "metadata": {},
                    "execution_count": 25
                }
            ],
            "metadata": {}
        },
        {
            "cell_type": "markdown",
            "source": [
                "# Evaluating the model\r\n",
                "Now that we've trained the model, we'd like to evaluate its accuracy with the test dataset."
            ],
            "metadata": {}
        },
        {
            "cell_type": "code",
            "execution_count": 26,
            "source": [
                "test_loss, test_acc = model.evaluate(test_images, test_labels, verbose=1)\r\n",
                "print('Test accuracy:', test_acc)"
            ],
            "outputs": [
                {
                    "output_type": "stream",
                    "name": "stdout",
                    "text": [
                        "313/313 [==============================] - 1s 2ms/step - loss: 0.3447 - accuracy: 0.8834\n",
                        "Test accuracy: 0.883400022983551\n"
                    ]
                }
            ],
            "metadata": {}
        },
        {
            "cell_type": "markdown",
            "source": [
                "# Predicting\r\n",
                "Now let's test a prediction."
            ],
            "metadata": {}
        },
        {
            "cell_type": "code",
            "execution_count": 38,
            "source": [
                "predictions = model.predict(test_images)\r\n",
                "print(class_names[np.argmax(predictions[0])])\r\n",
                "\r\n",
                "plt.figure()\r\n",
                "plt.imshow(test_images[0])\r\n",
                "plt.colorbar()\r\n",
                "plt.grid(False)\r\n",
                "plt.show()"
            ],
            "outputs": [
                {
                    "output_type": "stream",
                    "name": "stdout",
                    "text": [
                        "Coat\n"
                    ]
                },
                {
                    "output_type": "display_data",
                    "data": {
                        "text/plain": [
                            "<Figure size 432x288 with 2 Axes>"
                        ],
                        "image/png": "[encoded data removed]"
                    },
                    "metadata": {
                        "needs_background": "light"
                    }
                }
            ],
            "metadata": {}
        }
    ],
    "metadata": {
        "orig_nbformat": 4,
        "language_info": {
            "name": "python",
            "version": "3.8.10",
            "mimetype": "text/x-python",
            "codemirror_mode": {
                "name": "ipython",
                "version": 3
            },
            "pygments_lexer": "ipython3",
            "nbconvert_exporter": "python",
            "file_extension": ".py"
        },
        "kernelspec": {
            "name": "python3",
            "display_name": "Python 3.8.10 64-bit ('fcc_tf': conda)"
        },
        "interpreter": {
            "hash": "8a577243463c9fb053d577f44012f92c98057b00b50ce53cdc784040c960c971"
        }
    },
    "nbformat": 4,
    "nbformat_minor": 2
}