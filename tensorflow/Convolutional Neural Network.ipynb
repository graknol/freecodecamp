{
    "cells": [
        {
            "cell_type": "code",
            "execution_count": 1,
            "source": [
                "import tensorflow as tf\r\n",
                "\r\n",
                "from tensorflow.keras import datasets, layers, models\r\n",
                "import matplotlib.pyplot as plt"
            ],
            "outputs": [],
            "metadata": {}
        },
        {
            "cell_type": "code",
            "execution_count": 2,
            "source": [
                "(train_images, train_labels), (test_images, test_labels) = datasets.cifar10.load_data()\r\n",
                "\r\n",
                "# Normalize pixel values\r\n",
                "train_images, test_images = train_images / 255.0, test_images / 255.0\r\n",
                "\r\n",
                "class_names = ['airplane', 'automobile', 'bird', 'cat', 'deer', 'dog', 'frog', 'horse', 'ship', 'truck']"
            ],
            "outputs": [
                {
                    "output_type": "stream",
                    "name": "stdout",
                    "text": [
                        "Downloading data from https://www.cs.toronto.edu/~kriz/cifar-10-python.tar.gz\n",
                        "170500096/170498071 [==============================] - 19s 0us/step\n"
                    ]
                }
            ],
            "metadata": {}
        },
        {
            "cell_type": "code",
            "execution_count": 6,
            "source": [
                "IMG_INDEX = 2\r\n",
                "\r\n",
                "plt.imshow(train_images[IMG_INDEX], cmap=plt.cm.binary)\r\n",
                "plt.xlabel(class_names[train_labels[IMG_INDEX][0]])\r\n",
                "plt.show()"
            ],
            "outputs": [
                {
                    "output_type": "display_data",
                    "data": {
                        "text/plain": [
                            "<Figure size 432x288 with 1 Axes>"
                        ],
                        "image/png": "[encoded data removed]"
                    },
                    "metadata": {
                        "needs_background": "light"
                    }
                }
            ],
            "metadata": {}
        },
        {
            "cell_type": "code",
            "execution_count": 7,
            "source": [
                "model = models.Sequential()\r\n",
                "\r\n",
                "# Convolutional Base\r\n",
                "model.add(layers.Conv2D(32, (3, 3), activation='relu', input_shape=(32, 32, 3)))\r\n",
                "model.add(layers.MaxPooling2D((2, 2)))\r\n",
                "model.add(layers.Conv2D(64, (3, 3), activation='relu'))\r\n",
                "model.add(layers.MaxPooling2D((2, 2)))\r\n",
                "model.add(layers.Conv2D(64, (3, 3), activation='relu'))\r\n",
                "model.add(layers.MaxPooling2D((2, 2)))\r\n",
                "\r\n",
                "# Classifier\r\n",
                "model.add(layers.Flatten())\r\n",
                "model.add(layers.Dense(64, activation='relu'))\r\n",
                "model.add(layers.Dense(10))"
            ],
            "outputs": [],
            "metadata": {}
        },
        {
            "cell_type": "code",
            "execution_count": 10,
            "source": [
                "model.summary()"
            ],
            "outputs": [
                {
                    "output_type": "stream",
                    "name": "stdout",
                    "text": [
                        "Model: \"sequential\"\n",
                        "_________________________________________________________________\n",
                        "Layer (type)                 Output Shape              Param #   \n",
                        "=================================================================\n",
                        "conv2d (Conv2D)              (None, 30, 30, 32)        896       \n",
                        "_________________________________________________________________\n",
                        "max_pooling2d (MaxPooling2D) (None, 15, 15, 32)        0         \n",
                        "_________________________________________________________________\n",
                        "conv2d_1 (Conv2D)            (None, 13, 13, 64)        18496     \n",
                        "_________________________________________________________________\n",
                        "max_pooling2d_1 (MaxPooling2 (None, 6, 6, 64)          0         \n",
                        "_________________________________________________________________\n",
                        "conv2d_2 (Conv2D)            (None, 4, 4, 64)          36928     \n",
                        "_________________________________________________________________\n",
                        "max_pooling2d_2 (MaxPooling2 (None, 2, 2, 64)          0         \n",
                        "_________________________________________________________________\n",
                        "flatten (Flatten)            (None, 256)               0         \n",
                        "_________________________________________________________________\n",
                        "dense (Dense)                (None, 64)                16448     \n",
                        "_________________________________________________________________\n",
                        "dense_1 (Dense)              (None, 10)                650       \n",
                        "=================================================================\n",
                        "Total params: 73,418\n",
                        "Trainable params: 73,418\n",
                        "Non-trainable params: 0\n",
                        "_________________________________________________________________\n"
                    ]
                }
            ],
            "metadata": {}
        },
        {
            "cell_type": "code",
            "execution_count": 11,
            "source": [
                "model.compile(optimizer='adam',\r\n",
                "              loss=tf.keras.losses.SparseCategoricalCrossentropy(\r\n",
                "                  from_logits=True),\r\n",
                "              metrics=['accuracy'])\r\n",
                "\r\n",
                "history = model.fit(train_images,\r\n",
                "                    train_labels,\r\n",
                "                    epochs=10,\r\n",
                "                    validation_data=(test_images, test_labels))\r\n"
            ],
            "outputs": [
                {
                    "output_type": "stream",
                    "name": "stdout",
                    "text": [
                        "Epoch 1/10\n",
                        "1563/1563 [==============================] - 32s 20ms/step - loss: 1.5474 - accuracy: 0.4351 - val_loss: 1.2838 - val_accuracy: 0.5382\n",
                        "Epoch 2/10\n",
                        "1563/1563 [==============================] - 31s 20ms/step - loss: 1.2059 - accuracy: 0.5722 - val_loss: 1.1376 - val_accuracy: 0.5941\n",
                        "Epoch 3/10\n",
                        "1563/1563 [==============================] - 30s 19ms/step - loss: 1.0580 - accuracy: 0.6260 - val_loss: 1.0614 - val_accuracy: 0.6276\n",
                        "Epoch 4/10\n",
                        "1563/1563 [==============================] - 34s 22ms/step - loss: 0.9602 - accuracy: 0.6638 - val_loss: 0.9392 - val_accuracy: 0.6707\n",
                        "Epoch 5/10\n",
                        "1563/1563 [==============================] - 27s 17ms/step - loss: 0.8858 - accuracy: 0.6890 - val_loss: 0.9238 - val_accuracy: 0.6765\n",
                        "Epoch 6/10\n",
                        "1563/1563 [==============================] - 28s 18ms/step - loss: 0.8303 - accuracy: 0.7110 - val_loss: 0.8715 - val_accuracy: 0.6958\n",
                        "Epoch 7/10\n",
                        "1563/1563 [==============================] - 35s 22ms/step - loss: 0.7830 - accuracy: 0.7254 - val_loss: 0.8782 - val_accuracy: 0.6890\n",
                        "Epoch 8/10\n",
                        "1563/1563 [==============================] - 33s 21ms/step - loss: 0.7480 - accuracy: 0.7391 - val_loss: 0.8846 - val_accuracy: 0.6972\n",
                        "Epoch 9/10\n",
                        "1563/1563 [==============================] - 36s 23ms/step - loss: 0.7088 - accuracy: 0.7524 - val_loss: 0.8883 - val_accuracy: 0.6961\n",
                        "Epoch 10/10\n",
                        "1563/1563 [==============================] - 36s 23ms/step - loss: 0.6779 - accuracy: 0.7629 - val_loss: 0.8979 - val_accuracy: 0.6915\n"
                    ]
                }
            ],
            "metadata": {}
        },
        {
            "cell_type": "code",
            "execution_count": 12,
            "source": [
                "test_loss, test_acc = model.evaluate(test_images, test_labels, verbose=2)\r\n",
                "print(test_acc)"
            ],
            "outputs": [
                {
                    "output_type": "stream",
                    "name": "stdout",
                    "text": [
                        "313/313 - 2s - loss: 0.8979 - accuracy: 0.6915\n",
                        "0.6915000081062317\n"
                    ]
                }
            ],
            "metadata": {}
        }
    ],
    "metadata": {
        "orig_nbformat": 4,
        "language_info": {
            "name": "python",
            "version": "3.8.10",
            "mimetype": "text/x-python",
            "codemirror_mode": {
                "name": "ipython",
                "version": 3
            },
            "pygments_lexer": "ipython3",
            "nbconvert_exporter": "python",
            "file_extension": ".py"
        },
        "kernelspec": {
            "name": "python3",
            "display_name": "Python 3.8.10 64-bit ('fcc_tf': conda)"
        },
        "interpreter": {
            "hash": "8a577243463c9fb053d577f44012f92c98057b00b50ce53cdc784040c960c971"
        }
    },
    "nbformat": 4,
    "nbformat_minor": 2
}